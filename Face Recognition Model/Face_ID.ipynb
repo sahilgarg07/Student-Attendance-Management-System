{
  "cells": [
    {
      "cell_type": "code",
      "execution_count": null,
      "metadata": {
        "id": "l7vgB6XFYuPA"
      },
      "outputs": [],
      "source": [
        "# # http://vis-www.cs.umass.edu/lfw/\n",
        "# # Uncompress Tar GZ Labelled Faces in the Wild Dataset\n",
        "# !tar -xf lfw.tgz"
      ]
    },
    {
      "cell_type": "code",
      "execution_count": null,
      "metadata": {
        "colab": {
          "base_uri": "https://localhost:8080/"
        },
        "id": "KkfzDCWzYzhq",
        "outputId": "288e2561-d0e0-4780-d2ac-53bf31dd7beb"
      },
      "outputs": [
        {
          "name": "stdout",
          "output_type": "stream",
          "text": [
            "Drive already mounted at /content/drive; to attempt to forcibly remount, call drive.mount(\"/content/drive\", force_remount=True).\n"
          ]
        }
      ],
      "source": [
        "# from google.colab import drive\n",
        "# drive.mount('/content/drive')"
      ]
    },
    {
      "cell_type": "code",
      "execution_count": null,
      "metadata": {
        "id": "2_a4DKeDZe_w"
      },
      "outputs": [],
      "source": [
        "# import zipfile"
      ]
    },
    {
      "cell_type": "code",
      "execution_count": null,
      "metadata": {
        "id": "5pK4BurxZQb3"
      },
      "outputs": [],
      "source": [
        "# zip_ref = zipfile.ZipFile(\"/content/drive/MyDrive/AI_Project_Files/Face_ID/data.zip\", 'r')\n",
        "# zip_ref.extractall(\"/content\")\n",
        "# zip_ref.close()"
      ]
    },
    {
      "cell_type": "code",
      "execution_count": null,
      "metadata": {
        "id": "SedtSHijYuO6"
      },
      "outputs": [],
      "source": [
        "# %pip list\n"
      ]
    },
    {
      "cell_type": "code",
      "execution_count": null,
      "metadata": {
        "id": "c-v2wRd8YuO9"
      },
      "outputs": [],
      "source": [
        "# %pip install tensorflow"
      ]
    },
    {
      "cell_type": "code",
      "execution_count": null,
      "metadata": {
        "id": "qzLwPWtwYuO-"
      },
      "outputs": [],
      "source": [
        "\n",
        "# import cv2\n",
        "# import os\n",
        "# import random\n",
        "# import numpy as np\n",
        "# from matplotlib import pyplot as plt\n",
        "# import keras\n"
      ]
    },
    {
      "cell_type": "code",
      "execution_count": null,
      "metadata": {
        "id": "JzNwE4RlYuO-"
      },
      "outputs": [],
      "source": [
        "# import tensorflow as tf\n",
        "# from tensorflow import keras\n",
        "# from tensorflow.keras.models import Model\n",
        "# from tensorflow.keras.layers import Layer, Conv2D, Dense, MaxPooling2D, Input, Flatten\n"
      ]
    },
    {
      "cell_type": "code",
      "execution_count": null,
      "metadata": {
        "id": "Jx84GZaNYuO_"
      },
      "outputs": [],
      "source": [
        "# # Avoid OOM errors by setting GPU Memory Consumption Growth\n",
        "# gpus = tf.config.experimental.list_physical_devices('GPU')\n",
        "# for gpu in gpus:\n",
        "#     tf.config.experimental.set_memory_growth(gpu, True)"
      ]
    },
    {
      "cell_type": "code",
      "execution_count": null,
      "metadata": {
        "id": "_8bMvCQ9YuPB"
      },
      "outputs": [],
      "source": [
        "# if you are starting this for the first time, then first download the data in gzip format from the site below adn unzip it using the command given below\n",
        "\n",
        "# # http://vis-www.cs.umass.edu/lfw/\n",
        "# # Uncompress Tar GZ Labelled Faces in the Wild Dataset\n",
        "# !tar -xf lfw.tgz\n",
        "\n",
        "#Create a new folder named lfwNew, then run the commands below. And for running the remaining cells change lfw to lfwNew wherever it is written.\n",
        "\n",
        "\n",
        "# # Move LFW Images to the following repository data/negative\n",
        "# for directory in os.listdir('lfw'):\n",
        "#     for file in os.listdir(os.path.join('lfw', directory)):\n",
        "#         EX_PATH = os.path.join('lfw', directory, file)\n",
        "#         NEW_PATH = os.path.join('lfwNew', file)\n",
        "#         os.replace(EX_PATH, NEW_PATH)\n"
      ]
    },
    {
      "cell_type": "markdown",
      "metadata": {
        "id": "FjGM2kQEYuPB"
      },
      "source": [
        "# Collecting Data"
      ]
    },
    {
      "cell_type": "code",
      "execution_count": null,
      "metadata": {
        "id": "SUJm9sbBYuPF"
      },
      "outputs": [],
      "source": [
        "# # Making positive,negative and anchor from the lfw dataset\n",
        "\n",
        "# folder_path = os.path.join('data', 'lfw')\n",
        "\n",
        "# file_list = os.listdir(folder_path)\n",
        "\n",
        "# set_names_of_people=list()\n",
        "\n",
        "# for files in file_list:\n",
        "#     sample=str(files)\n",
        "\n",
        "#     i=len(sample)-1\n",
        "#     while(i>=0):\n",
        "#         if(sample[i]=='_'):\n",
        "#             break\n",
        "#         i-=1\n",
        "\n",
        "#     name=str(sample[:i])\n",
        "\n",
        "#     set_names_of_people.append(name)\n",
        "\n",
        "# names_of_people=list(set(set_names_of_people))"
      ]
    },
    {
      "cell_type": "code",
      "execution_count": null,
      "metadata": {
        "id": "AskfEgd7YuPG"
      },
      "outputs": [],
      "source": [
        "# image_files=dict()     #contains the name of person and list of all his images\n",
        "\n",
        "# for name in names_of_people:\n",
        "#     image_files[name]=list()  #initializing all the list to be empty"
      ]
    },
    {
      "cell_type": "code",
      "execution_count": null,
      "metadata": {
        "id": "UZ1SQqKAYuPH"
      },
      "outputs": [],
      "source": [
        "# # Now adding all the files to their respective list\n",
        "\n",
        "# for files in file_list:\n",
        "#     sample = str(files)  # getting the file name\n",
        "\n",
        "#     i = len(sample)-1\n",
        "#     while (i >= 0):\n",
        "#         if (sample[i] == '_'):\n",
        "#             break\n",
        "#         i -= 1\n",
        "#     name = str(sample[:i])  # getting the key name\n",
        "\n",
        "#     image_files[name].append(files)\n",
        "\n",
        "# # Now all the images belonging to the same person are part of the list belonging to the name of the person in the dictionary\n"
      ]
    },
    {
      "cell_type": "code",
      "execution_count": null,
      "metadata": {
        "id": "dSL1a1ErYuPI"
      },
      "outputs": [],
      "source": [
        "# import random\n",
        "# import uuid\n"
      ]
    },
    {
      "cell_type": "code",
      "execution_count": null,
      "metadata": {
        "id": "G9d2pEFIYuPI"
      },
      "outputs": [],
      "source": [
        "# # Now using the above dictionary we have to divide them into positive, anchors, negatives\n",
        "\n",
        "# # Positive and Anchors can be made from those names which have more than one images belonging to it, one of the many images can go to anchor and the other one can go to positives.\n",
        "# # As for negatives we will simply chose any image from any other list (other than the one we chose our anchor from)\n",
        "\n",
        "\n",
        "# def copying_file(source_path, destination_folder, name_):\n",
        "#     destination_file_path = os.path.join(\n",
        "#         destination_folder, str(name_)+\"_\"+str(uuid.uuid1())+\".jpg\")\n",
        "#     # os.path.basename will get the name of source file out of the whole file path\n",
        "#     # adding randomness at the end of file name using uuid ->the reason for this is that when I am adding a image in negative folder I am generating a random index to get a random image, but it might happen for two different images the same random number might be getting generated, and therefore the image which will come the second time will be identical to earlier ones and might replace it and therefore number of images in negative folder might be less than positive and negative folder\n",
        "\n",
        "#     # Open the source file for reading\n",
        "#     with open(source_path, 'rb') as source_file:\n",
        "#         # Open the destination file for writing\n",
        "#         with open(destination_file_path, 'wb') as destination_file:\n",
        "#             # Read from the source file and write to the destination file\n",
        "#             destination_file.write(source_file.read())\n"
      ]
    },
    {
      "cell_type": "code",
      "execution_count": null,
      "metadata": {
        "id": "xCCms3oOYuPJ"
      },
      "outputs": [],
      "source": [
        "# def apply_augmentation(image_path, augmentations):\n",
        "#     image = cv2.imread(image_path)\n",
        "#     augmented_image = image.copy()\n",
        "\n",
        "#     for augmentation in augmentations:\n",
        "#         if augmentation == 'flip_horizontal':\n",
        "#             augmented_image = cv2.flip(augmented_image, 1)\n",
        "#         elif augmentation == 'flip_vertical':\n",
        "#             augmented_image = cv2.flip(augmented_image, 0)\n",
        "#         elif augmentation == 'rotate':\n",
        "#             angle = random.randint(0, 360)\n",
        "#             rotation_matrix = cv2.getRotationMatrix2D(\n",
        "#                 (image.shape[1] / 2, image.shape[0] / 2), angle, 1)\n",
        "#             augmented_image = cv2.warpAffine(\n",
        "#                 augmented_image, rotation_matrix, (image.shape[1], image.shape[0]))\n",
        "#         elif augmentation == 'brightness':\n",
        "#             brightness_factor = random.uniform(0.5, 1.5)\n",
        "#             augmented_image = cv2.convertScaleAbs(\n",
        "#                 augmented_image, alpha=brightness_factor, beta=0)\n",
        "#         elif augmentation == 'contrast':\n",
        "#             contrast_factor = random.uniform(0.5, 1.5)\n",
        "#             augmented_image = cv2.convertScaleAbs(\n",
        "#                 augmented_image, alpha=1, beta=128 * (1 - contrast_factor))\n",
        "#         elif augmentation == 'noise':\n",
        "#             noise = np.random.normal(\n",
        "#                 0, 25, augmented_image.shape).astype(np.uint8)\n",
        "#             augmented_image = cv2.add(augmented_image, noise)\n",
        "\n",
        "#     return augmented_image\n"
      ]
    },
    {
      "cell_type": "code",
      "execution_count": null,
      "metadata": {
        "id": "QuuIdyqGYuPK"
      },
      "outputs": [],
      "source": [
        "# data_files_dict=dict()\n",
        "# lfw_path = os.path.join('data', 'lfw')\n",
        "# for name in names_of_people:\n",
        "#     if (len(image_files[name]) > 1):\n",
        "#         data_files_dict[name]=[]\n",
        "\n",
        "# for name in names_of_people:\n",
        "#     if (len(image_files[name]) > 1):\n",
        "#         data_files_dict[name].append(os.path.join(str(lfw_path), str(image_files[name][0])))\n",
        "#         data_files_dict[name].append(os.path.join(str(lfw_path), str(image_files[name][1])))\n",
        "\n",
        "#         random_index = random.randint(0, len(names_of_people)-1)\n",
        "#         while (str(names_of_people[random_index]) == str(name)):\n",
        "#             random_index = random.randint(0, len(names_of_people)-1)\n",
        "#         # if(str(names_of_people[random_index])==str(name)):\n",
        "#         data_files_dict[name].append(os.path.join(\n",
        "#             str(lfw_path), str(image_files[names_of_people[random_index]][0])))\n"
      ]
    },
    {
      "cell_type": "code",
      "execution_count": null,
      "metadata": {
        "id": "3_iHQLsGYuPL"
      },
      "outputs": [],
      "source": [
        "# def get_base_name(file_name):\n",
        "#     sample = str(file_name)\n",
        "#     i = len(sample)-1\n",
        "#     while (i >= 0):\n",
        "#         if (sample[i] == '_'):\n",
        "#             break\n",
        "#         i -= 1\n",
        "#     name_sample = str(sample[:i])\n",
        "\n",
        "#     return name_sample\n"
      ]
    },
    {
      "cell_type": "code",
      "execution_count": null,
      "metadata": {
        "colab": {
          "base_uri": "https://localhost:8080/"
        },
        "id": "1xfNdloWYuPM",
        "outputId": "b4d15125-a643-4236-a2fb-9efcfbf21979"
      },
      "outputs": [
        {
          "name": "stdout",
          "output_type": "stream",
          "text": [
            "0\n"
          ]
        }
      ],
      "source": [
        "# count = 0\n",
        "# for name in names_of_people:\n",
        "#     if (len(image_files[name]) > 1):\n",
        "#         if (str(get_base_name(data_files_dict[name][0])) == str(get_base_name(data_files_dict[name][2]))):\n",
        "#             count += 1\n",
        "\n",
        "# print(count)\n"
      ]
    },
    {
      "cell_type": "code",
      "execution_count": null,
      "metadata": {
        "id": "nprQyPMZYuPO"
      },
      "outputs": [],
      "source": [
        "# # Now generated the augmented versions of these images\n",
        "# augmentation=['flip_horizontal','flip_vertical','rotate','brightness','contrast','noise']"
      ]
    },
    {
      "cell_type": "markdown",
      "metadata": {
        "id": "Kt5SPYaaYuPP"
      },
      "source": [
        "# Creating Labelled Dataset"
      ]
    },
    {
      "cell_type": "code",
      "execution_count": null,
      "metadata": {
        "id": "GoBvVsVm_Buk"
      },
      "outputs": [],
      "source": [
        "# size=70"
      ]
    },
    {
      "cell_type": "code",
      "execution_count": null,
      "metadata": {
        "id": "6KFty179YuPP"
      },
      "outputs": [],
      "source": [
        "# def preprocess(file_path,augmentation=False):\n",
        "\n",
        "#     byte_img = tf.io.read_file(file_path)\n",
        "#     # Load in the image\n",
        "#     img = tf.io.decode_jpeg(byte_img)\n",
        "\n",
        "#     img = tf.image.resize(img, (size, size))\n",
        "#     # Scale image to be between 0 and 1\n",
        "#     img = img / 255.0\n",
        "\n",
        "#     if(augmentation):\n",
        "#         img = tf.image.random_flip_left_right(img)\n",
        "#         img = tf.image.random_brightness(img, max_delta=0.2)\n",
        "#         img = tf.image.random_contrast(img, lower=0.5, upper=1.5)\n",
        "\n",
        "\n",
        "#     return img\n"
      ]
    },
    {
      "cell_type": "code",
      "execution_count": null,
      "metadata": {
        "id": "3fqvefCeEHLt"
      },
      "outputs": [],
      "source": [
        "# data_augmentation_rate=5"
      ]
    },
    {
      "cell_type": "code",
      "execution_count": null,
      "metadata": {
        "id": "Fy_LLW1FYuPP"
      },
      "outputs": [],
      "source": [
        "# anchor_list = []\n",
        "# pos_list = []\n",
        "# neg_list = []\n",
        "# ones_list = []\n",
        "# zeroes_list = []\n",
        "\n",
        "# for name in names_of_people:\n",
        "#     if (len(image_files[name]) > 1):\n",
        "#         anchor_list.append(preprocess(data_files_dict[name][0]))\n",
        "#         pos_list.append(preprocess(data_files_dict[name][1]))\n",
        "#         neg_list.append(preprocess(data_files_dict[name][2]))\n",
        "#         ones_list.append(1)\n",
        "#         zeroes_list.append(0)\n",
        "\n",
        "#         for i in range(data_augmentation_rate):\n",
        "\n",
        "#             anchor_list.append(preprocess(data_files_dict[name][0],True))\n",
        "#             pos_list.append(preprocess(data_files_dict[name][1],True))\n",
        "#             neg_list.append(preprocess(data_files_dict[name][2], True))\n",
        "#             ones_list.append(1)\n",
        "#             zeroes_list.append(0)\n",
        "\n"
      ]
    },
    {
      "cell_type": "code",
      "execution_count": null,
      "metadata": {
        "colab": {
          "base_uri": "https://localhost:8080/"
        },
        "id": "Y4O9cWFlYuPQ",
        "outputId": "dde752de-af7a-4805-92ac-32daefd517a6"
      },
      "outputs": [
        {
          "name": "stdout",
          "output_type": "stream",
          "text": [
            "10080\n",
            "10080\n",
            "10080\n",
            "10080\n",
            "10080\n"
          ]
        }
      ],
      "source": [
        "# print(len(anchor_list))\n",
        "# print(len(pos_list))\n",
        "# print(len(neg_list))\n",
        "# print(len(ones_list))\n",
        "# print(len(zeroes_list))\n"
      ]
    },
    {
      "cell_type": "code",
      "execution_count": null,
      "metadata": {
        "colab": {
          "base_uri": "https://localhost:8080/",
          "height": 1000
        },
        "id": "VzE828zPYuPQ",
        "outputId": "5dd03709-29f0-4531-9481-b3757f494166"
      },
      "outputs": [
        {
          "name": "stderr",
          "output_type": "stream",
          "text": [
            "WARNING:matplotlib.image:Clipping input data to the valid range for imshow with RGB data ([0..1] for floats or [0..255] for integers).\n"
          ]
        },
        {
          "name": "stdout",
          "output_type": "stream",
          "text": [
            "Anchor Image: \n"
          ]
        },
        {
          "data": {
            "image/png": "[encoded data removed]",
            "text/plain": [
              "<Figure size 640x480 with 1 Axes>"
            ]
          },
          "metadata": {},
          "output_type": "display_data"
        },
        {
          "name": "stdout",
          "output_type": "stream",
          "text": [
            "Positive Image: \n"
          ]
        },
        {
          "data": {
            "image/png": "[encoded data removed]",
            "text/plain": [
              "<Figure size 640x480 with 1 Axes>"
            ]
          },
          "metadata": {},
          "output_type": "display_data"
        },
        {
          "name": "stderr",
          "output_type": "stream",
          "text": [
            "WARNING:matplotlib.image:Clipping input data to the valid range for imshow with RGB data ([0..1] for floats or [0..255] for integers).\n"
          ]
        },
        {
          "name": "stdout",
          "output_type": "stream",
          "text": [
            "Negative Image: \n"
          ]
        },
        {
          "data": {
            "image/png": "[encoded data removed]",
            "text/plain": [
              "<Figure size 640x480 with 1 Axes>"
            ]
          },
          "metadata": {},
          "output_type": "display_data"
        }
      ],
      "source": [
        "# i=random.randint(0,len(anchor_list)-1)\n",
        "\n",
        "# print(\"Anchor Image: \")\n",
        "# plt.imshow(anchor_list[i])\n",
        "# plt.axis('off')  # Turn off axis labels\n",
        "# plt.show()\n",
        "\n",
        "\n",
        "# print(\"Positive Image: \")\n",
        "# plt.imshow(pos_list[i])\n",
        "# plt.axis('off')  # Turn off axis labels\n",
        "# plt.show()\n",
        "\n",
        "\n",
        "# print(\"Negative Image: \")\n",
        "# plt.imshow(neg_list[i])\n",
        "# plt.axis('off')  # Turn off axis labels\n",
        "# plt.show()\n"
      ]
    },
    {
      "cell_type": "code",
      "execution_count": null,
      "metadata": {
        "id": "ZZUjj9SmYuPQ"
      },
      "outputs": [],
      "source": [
        "# anchor_pos=list(zip(anchor_list,pos_list))\n",
        "# anchor_neg=list(zip(anchor_list,neg_list))"
      ]
    },
    {
      "cell_type": "code",
      "execution_count": null,
      "metadata": {
        "id": "LrwK88aKYuPR"
      },
      "outputs": [],
      "source": [
        "# dataset_list=anchor_pos+anchor_neg\n",
        "# y_list=ones_list+zeroes_list"
      ]
    },
    {
      "cell_type": "code",
      "execution_count": null,
      "metadata": {
        "colab": {
          "base_uri": "https://localhost:8080/"
        },
        "id": "ygIRKfkHYuPR",
        "outputId": "a3a27c11-cba0-4c3e-88ed-787727222be2"
      },
      "outputs": [
        {
          "data": {
            "text/plain": [
              "(<tf.Tensor: shape=(70, 70, 3), dtype=float32, numpy=\n",
              " array([[[0.81960785, 0.76862746, 0.59327734],\n",
              "         [0.81960785, 0.76862746, 0.59607846],\n",
              "         [0.8212885 , 0.77030814, 0.60560226],\n",
              "         ...,\n",
              "         [0.8487395 , 0.7977591 , 0.6722689 ],\n",
              "         [0.85882354, 0.80784315, 0.68235296],\n",
              "         [0.85770303, 0.80672264, 0.68123245]],\n",
              " \n",
              "        [[0.81960785, 0.76862746, 0.59607846],\n",
              "         [0.81960785, 0.76862746, 0.59607846],\n",
              "         [0.8212885 , 0.77030814, 0.60560226],\n",
              "         ...,\n",
              "         [0.8487395 , 0.7977591 , 0.6722689 ],\n",
              "         [0.85882354, 0.80784315, 0.68235296],\n",
              "         [0.85770303, 0.80672264, 0.68123245]],\n",
              " \n",
              "        [[0.81960785, 0.76862746, 0.6039216 ],\n",
              "         [0.81960785, 0.76862746, 0.6039216 ],\n",
              "         [0.81960785, 0.76862746, 0.6039216 ],\n",
              "         ...,\n",
              "         [0.8487395 , 0.7977591 , 0.6722689 ],\n",
              "         [0.85882354, 0.80784315, 0.68235296],\n",
              "         [0.85770303, 0.80672264, 0.68123245]],\n",
              " \n",
              "        ...,\n",
              " \n",
              "        [[0.922689  , 0.8896358 , 0.81848735],\n",
              "         [0.7960784 , 0.76078427, 0.69747895],\n",
              "         [0.81064427, 0.7714286 , 0.72773117],\n",
              "         ...,\n",
              "         [0.29539815, 0.28195277, 0.22817127],\n",
              "         [0.29635853, 0.2885154 , 0.237535  ],\n",
              "         [0.2757904 , 0.27499005, 0.22633056]],\n",
              " \n",
              "        [[0.88211286, 0.84681875, 0.7879952 ],\n",
              "         [0.8185674 , 0.7832733 , 0.72444975],\n",
              "         [0.80168074, 0.7663866 , 0.7075631 ],\n",
              "         ...,\n",
              "         [0.28043216, 0.2647459 , 0.22208881],\n",
              "         [0.26666668, 0.25778314, 0.21384548],\n",
              "         [0.25994405, 0.25658265, 0.22408962]],\n",
              " \n",
              "        [[0.80816346, 0.7689478 , 0.7290918 ],\n",
              "         [0.76094455, 0.72172886, 0.67467004],\n",
              "         [0.7250102 , 0.6897161 , 0.6308926 ],\n",
              "         ...,\n",
              "         [0.2679472 , 0.2561825 , 0.22745098],\n",
              "         [0.2561825 , 0.2444178 , 0.222569  ],\n",
              "         [0.24921985, 0.24545833, 0.22280921]]], dtype=float32)>,\n",
              " <tf.Tensor: shape=(70, 70, 3), dtype=float32, numpy=\n",
              " array([[[0.00000000e+00, 3.92156886e-03, 0.00000000e+00],\n",
              "         [0.00000000e+00, 3.92156886e-03, 0.00000000e+00],\n",
              "         [0.00000000e+00, 3.92156886e-03, 3.20127909e-03],\n",
              "         ...,\n",
              "         [0.00000000e+00, 3.28131486e-03, 0.00000000e+00],\n",
              "         [0.00000000e+00, 2.80112051e-03, 0.00000000e+00],\n",
              "         [0.00000000e+00, 0.00000000e+00, 0.00000000e+00]],\n",
              " \n",
              "        [[3.52140865e-03, 4.00159886e-04, 0.00000000e+00],\n",
              "         [3.44137684e-03, 4.80191840e-04, 0.00000000e+00],\n",
              "         [2.24089529e-03, 2.40096037e-04, 0.00000000e+00],\n",
              "         ...,\n",
              "         [0.00000000e+00, 0.00000000e+00, 0.00000000e+00],\n",
              "         [0.00000000e+00, 0.00000000e+00, 0.00000000e+00],\n",
              "         [0.00000000e+00, 0.00000000e+00, 0.00000000e+00]],\n",
              " \n",
              "        [[4.64025617e-01, 3.14845920e-01, 2.29611829e-01],\n",
              "         [4.45378155e-01, 2.89635837e-01, 2.04481781e-01],\n",
              "         [4.07282919e-01, 2.61784703e-01, 1.84793919e-01],\n",
              "         ...,\n",
              "         [9.97198969e-02, 9.57983285e-02, 8.45938325e-02],\n",
              "         [1.24929920e-01, 1.21008351e-01, 1.13165215e-01],\n",
              "         [1.69747800e-01, 1.68627337e-01, 1.66386381e-01]],\n",
              " \n",
              "        ...,\n",
              " \n",
              "        [[2.35294122e-02, 2.35294122e-02, 2.35294122e-02],\n",
              "         [2.35294122e-02, 2.35294122e-02, 2.35294122e-02],\n",
              "         [2.35294122e-02, 2.35294122e-02, 2.35294122e-02],\n",
              "         ...,\n",
              "         [1.60063915e-02, 1.79271623e-02, 1.69667769e-02],\n",
              "         [2.27291137e-02, 2.32092943e-02, 2.29692049e-02],\n",
              "         [1.84873696e-02, 1.84873696e-02, 1.84873696e-02]],\n",
              " \n",
              "        [[2.35294122e-02, 2.35294122e-02, 2.35294122e-02],\n",
              "         [2.35294122e-02, 2.35294122e-02, 2.35294122e-02],\n",
              "         [2.35294122e-02, 2.35294122e-02, 2.35294122e-02],\n",
              "         ...,\n",
              "         [1.98479332e-02, 1.98479332e-02, 1.98479332e-02],\n",
              "         [2.24890243e-02, 2.24890243e-02, 2.24890243e-02],\n",
              "         [1.97679047e-02, 1.97679047e-02, 1.97679047e-02]],\n",
              " \n",
              "        [[2.35294122e-02, 2.35294122e-02, 2.35294122e-02],\n",
              "         [2.35294122e-02, 2.35294122e-02, 2.35294122e-02],\n",
              "         [2.35294122e-02, 2.35294122e-02, 2.35294122e-02],\n",
              "         ...,\n",
              "         [2.35294122e-02, 2.35294122e-02, 2.35294122e-02],\n",
              "         [2.24089380e-02, 2.24089380e-02, 2.24089380e-02],\n",
              "         [2.27290802e-02, 2.27290802e-02, 2.27290802e-02]]], dtype=float32)>)"
            ]
          },
          "execution_count": 224,
          "metadata": {},
          "output_type": "execute_result"
        }
      ],
      "source": [
        "# dataset_list[0]\n"
      ]
    },
    {
      "cell_type": "code",
      "execution_count": null,
      "metadata": {
        "colab": {
          "base_uri": "https://localhost:8080/"
        },
        "id": "bFVSG4vhYuPR",
        "outputId": "3e411013-a3dd-4bd2-ac6c-dbe8c665477e"
      },
      "outputs": [
        {
          "name": "stdout",
          "output_type": "stream",
          "text": [
            "10080\n",
            "10080\n",
            "10080\n",
            "10080\n"
          ]
        }
      ],
      "source": [
        "# print(len(zeroes_list))\n",
        "# print(len(ones_list))\n",
        "# print(len(anchor_neg))\n",
        "# print(len(anchor_pos))\n"
      ]
    },
    {
      "cell_type": "code",
      "execution_count": null,
      "metadata": {
        "colab": {
          "base_uri": "https://localhost:8080/"
        },
        "id": "P0c2Q29fYuPR",
        "outputId": "e63e43e7-6379-47b4-c44b-cb4f7414c97a"
      },
      "outputs": [
        {
          "name": "stdout",
          "output_type": "stream",
          "text": [
            "20160\n",
            "20160\n"
          ]
        }
      ],
      "source": [
        "# print(len(dataset_list))\n",
        "# print(len(y_list))\n"
      ]
    },
    {
      "cell_type": "code",
      "execution_count": null,
      "metadata": {
        "id": "YwR1wH0XYuPS"
      },
      "outputs": [],
      "source": [
        "# temp = list(zip(dataset_list, y_list))\n",
        "# random.shuffle(temp)\n",
        "\n",
        "# dataset_list, y_list = zip(*temp)\n",
        "# # res1 and res2 come out as tuples, and so must be converted to lists.\n",
        "# dataset_list, y_list = list(dataset_list), list(y_list)\n"
      ]
    },
    {
      "cell_type": "code",
      "execution_count": null,
      "metadata": {
        "id": "Fj5msuvJDDLO"
      },
      "outputs": [],
      "source": [
        "# # Normalizing data\n",
        "# min_val = np.min(dataset_list)\n",
        "# max_val = np.max(dataset_list)\n",
        "\n",
        "# # Step 3: Normalize the array\n",
        "# dataset_list = (dataset_list - min_val) / (max_val - min_val)\n"
      ]
    },
    {
      "cell_type": "code",
      "execution_count": null,
      "metadata": {
        "id": "Ct7FsX2ZYuPS"
      },
      "outputs": [],
      "source": [
        "# dataset_list_anc, dataset_list_valid = zip(*dataset_list)\n",
        "# dataset_list_anc, dataset_list_valid = list(\n",
        "#     dataset_list_anc), list(dataset_list_valid)\n"
      ]
    },
    {
      "cell_type": "code",
      "execution_count": null,
      "metadata": {
        "id": "W8mdsfnjYuPT"
      },
      "outputs": [],
      "source": [
        "# dataset_list_anc=np.array(dataset_list_anc)\n",
        "# print(dataset_list_anc.shape)\n"
      ]
    },
    {
      "cell_type": "code",
      "execution_count": null,
      "metadata": {
        "colab": {
          "base_uri": "https://localhost:8080/"
        },
        "id": "xrxZr5LlYuPT",
        "outputId": "346d6023-abe1-4a00-abc8-a10718875cb6"
      },
      "outputs": [
        {
          "name": "stdout",
          "output_type": "stream",
          "text": [
            "20160\n",
            "20160\n"
          ]
        }
      ],
      "source": [
        "# print(len(dataset_list_anc))\n",
        "# print(len(dataset_list_valid))\n"
      ]
    },
    {
      "cell_type": "code",
      "execution_count": null,
      "metadata": {
        "colab": {
          "base_uri": "https://localhost:8080/"
        },
        "id": "obBtw95VYuPU",
        "outputId": "204df143-55aa-4727-e2b3-f17c367308fd"
      },
      "outputs": [
        {
          "name": "stdout",
          "output_type": "stream",
          "text": [
            "[0, 1, 0, 1, 0, 0, 0, 0, 0, 0, 0, 1, 0, 0, 1, 1, 0, 1, 1, 1]\n"
          ]
        }
      ],
      "source": [
        "# print(y_list[:20])\n"
      ]
    },
    {
      "cell_type": "code",
      "execution_count": null,
      "metadata": {
        "colab": {
          "base_uri": "https://localhost:8080/",
          "height": 866
        },
        "id": "R3rARRbEYuPX",
        "outputId": "777b49b6-58af-413d-9a2d-4f55e89185a8"
      },
      "outputs": [
        {
          "data": {
            "image/png": "[encoded data removed]",
            "text/plain": [
              "<Figure size 640x480 with 1 Axes>"
            ]
          },
          "metadata": {},
          "output_type": "display_data"
        },
        {
          "data": {
            "image/png": "[encoded data removed]",
            "text/plain": [
              "<Figure size 640x480 with 1 Axes>"
            ]
          },
          "metadata": {},
          "output_type": "display_data"
        },
        {
          "name": "stdout",
          "output_type": "stream",
          "text": [
            "1\n"
          ]
        }
      ],
      "source": [
        "# from matplotlib import pyplot as plt\n",
        "\n",
        "# x = 3\n",
        "# plt.imshow(dataset_list[x][0], interpolation='nearest')\n",
        "# plt.show()\n",
        "\n",
        "# plt.imshow(dataset_list[x][1], interpolation='nearest')\n",
        "# plt.show()\n",
        "\n",
        "# print(y_list[x])\n"
      ]
    },
    {
      "cell_type": "code",
      "execution_count": null,
      "metadata": {
        "colab": {
          "base_uri": "https://localhost:8080/"
        },
        "id": "mQsydAW8YuPX",
        "outputId": "4a628f03-550c-49c5-a83c-751fc164fc78"
      },
      "outputs": [
        {
          "name": "stdout",
          "output_type": "stream",
          "text": [
            "[[[[0.4799778  0.4523885  0.4252692 ]\n",
            "   [0.4776393  0.45059636 0.42609966]\n",
            "   [0.48506996 0.45951316 0.4370489 ]\n",
            "   ...\n",
            "   [0.4068734  0.39289963 0.38328606]\n",
            "   [0.40641445 0.3924407  0.3828271 ]\n",
            "   [0.40610847 0.39213473 0.38252112]]\n",
            "\n",
            "  [[0.48675278 0.46338147 0.4407861 ]\n",
            "   [0.5518146  0.5300168  0.5093883 ]\n",
            "   [0.52523905 0.50484    0.48512948]\n",
            "   ...\n",
            "   [0.4087092  0.39473546 0.38512185]\n",
            "   [0.40733233 0.3933586  0.38374498]\n",
            "   [0.40717936 0.3932056  0.383592  ]]\n",
            "\n",
            "  [[0.5354016  0.51786554 0.50031865]\n",
            "   [0.67199427 0.6576271  0.64248425]\n",
            "   [0.66792923 0.6542615  0.6401676 ]\n",
            "   ...\n",
            "   [0.40855622 0.39458248 0.38496888]\n",
            "   [0.40726677 0.39329305 0.38367945]\n",
            "   [0.40674224 0.39276853 0.38315493]]\n",
            "\n",
            "  ...\n",
            "\n",
            "  [[0.57974505 0.44093654 0.4409609 ]\n",
            "   [0.5858644  0.44659695 0.44662133]\n",
            "   [0.5881154  0.44930696 0.4493313 ]\n",
            "   ...\n",
            "   [0.44109806 0.42498255 0.4164398 ]\n",
            "   [0.43961188 0.4234964  0.41495368]\n",
            "   [0.43058592 0.4144704  0.4059277 ]]\n",
            "\n",
            "  [[0.57653236 0.43833584 0.4383602 ]\n",
            "   [0.5855366  0.4462691  0.4462935 ]\n",
            "   [0.59290165 0.45042154 0.4515168 ]\n",
            "   ...\n",
            "   [0.43731716 0.42120165 0.41265893]\n",
            "   [0.43867218 0.42255667 0.41401395]\n",
            "   [0.42354864 0.40743312 0.39889044]]\n",
            "\n",
            "  [[0.5753959  0.4387292  0.43798864]\n",
            "   [0.5868697  0.44760224 0.44762662]\n",
            "   [0.5995017  0.45422426 0.45639038]\n",
            "   ...\n",
            "   [0.43626815 0.4201526  0.4116099 ]\n",
            "   [0.4336019  0.41748637 0.40894365]\n",
            "   [0.42641157 0.41029605 0.4017533 ]]]\n",
            "\n",
            "\n",
            " [[[0.4928876  0.47629502 0.45328054]\n",
            "   [0.4952961  0.4787036  0.45568904]\n",
            "   [0.4966305  0.48003793 0.4570235 ]\n",
            "   ...\n",
            "   [0.44312274 0.43131468 0.41946387]\n",
            "   [0.4447176  0.43290952 0.42105868]\n",
            "   [0.44553125 0.43372318 0.42187238]]\n",
            "\n",
            "  [[0.49409187 0.4774993  0.45448482]\n",
            "   [0.4952961  0.4787036  0.45568904]\n",
            "   [0.4952961  0.4787036  0.45568904]\n",
            "   ...\n",
            "   [0.44540107 0.433593   0.4217422 ]\n",
            "   [0.4476794  0.4358713  0.4240205 ]\n",
            "   [0.4485907  0.43678263 0.42493182]]\n",
            "\n",
            "  [[0.49438477 0.47779226 0.4547777 ]\n",
            "   [0.49438477 0.47779226 0.4547777 ]\n",
            "   [0.49438477 0.47779226 0.4547777 ]\n",
            "   ...\n",
            "   [0.44813502 0.43632695 0.42447618]\n",
            "   [0.45008788 0.4382798  0.426429  ]\n",
            "   [0.4524638  0.44065574 0.42880493]]\n",
            "\n",
            "  ...\n",
            "\n",
            "  [[0.30365753 0.29663393 0.29594684]\n",
            "   [0.3039179  0.29689428 0.29620722]\n",
            "   [0.30482924 0.2978056  0.29711857]\n",
            "   ...\n",
            "   [0.58646107 0.5021051  0.46034333]\n",
            "   [0.6120433  0.5348803  0.4853071 ]\n",
            "   [0.65900904 0.5847427  0.52716297]]\n",
            "\n",
            "  [[0.30277878 0.29575515 0.2950681 ]\n",
            "   [0.30687973 0.29985613 0.29916906]\n",
            "   [0.3102972  0.30327356 0.3025865 ]\n",
            "   ...\n",
            "   [0.60973245 0.5169792  0.48810616]\n",
            "   [0.61686033 0.5318858  0.49611276]\n",
            "   [0.62509483 0.5415199  0.4978704 ]]\n",
            "\n",
            "  [[0.3019976  0.294974   0.29428694]\n",
            "   [0.30369008 0.2966665  0.2959794 ]\n",
            "   [0.30600095 0.29897732 0.29829028]\n",
            "   ...\n",
            "   [0.58112353 0.5021378  0.48071805]\n",
            "   [0.5814164  0.5037651  0.47681233]\n",
            "   [0.60091203 0.5243998  0.49136078]]]]\n"
          ]
        }
      ],
      "source": [
        "# print(dataset_list[0])\n"
      ]
    },
    {
      "cell_type": "markdown",
      "metadata": {
        "id": "C0vKTNhaYuPY"
      },
      "source": [
        "# Making the Neural Network and Training the Data"
      ]
    },
    {
      "cell_type": "code",
      "execution_count": null,
      "metadata": {
        "id": "gopMLVexYuPY"
      },
      "outputs": [],
      "source": [
        "# def initial_layers():\n",
        "\n",
        "#     inp = Input(shape=(size, size, 3), name=\"Input_layer\")\n",
        "\n",
        "#     conv1 = Conv2D(64, (10, 10), activation='relu', name=\"ConvOfBlock1\")(inp)\n",
        "#     mp1 = MaxPooling2D(64, (2, 2), padding='same')(conv1)\n",
        "\n",
        "#     conv2 = Conv2D(128, (7, 7), activation='relu', name=\"ConvOfBlock2\")(mp1)\n",
        "#     mp2 = MaxPooling2D(64, (2, 2), padding='same')(conv2)\n",
        "\n",
        "#     conv3 = Conv2D(128, (4, 4), activation='relu', name=\"ConvOfBlock3\")(mp2)\n",
        "#     mp3 = MaxPooling2D(64, (2, 2), padding='same')(conv3)\n",
        "\n",
        "#     conv4 = Conv2D(256, (4, 4), activation='relu', name=\"ConvOfBlock4\")(mp3)\n",
        "\n",
        "#     f1 = Flatten()(conv4)\n",
        "#     d1 = Dense(4096, activation='sigmoid')(f1)\n",
        "\n",
        "#     return Model(inputs=[inp], outputs=[d1], name=\"embedding\")\n"
      ]
    },
    {
      "cell_type": "code",
      "execution_count": null,
      "metadata": {
        "id": "QP2QsIWPYuPa"
      },
      "outputs": [],
      "source": [
        "# basic_layer=initial_layers()"
      ]
    },
    {
      "cell_type": "code",
      "execution_count": null,
      "metadata": {
        "colab": {
          "base_uri": "https://localhost:8080/"
        },
        "id": "9nxkBXn1YuPa",
        "outputId": "0f02ac40-4be1-4386-f903-5ee4c3390239"
      },
      "outputs": [
        {
          "name": "stdout",
          "output_type": "stream",
          "text": [
            "Model: \"embedding\"\n",
            "_________________________________________________________________\n",
            " Layer (type)                Output Shape              Param #   \n",
            "=================================================================\n",
            " Input_layer (InputLayer)    [(None, 70, 70, 3)]       0         \n",
            "                                                                 \n",
            " ConvOfBlock1 (Conv2D)       (None, 61, 61, 64)        19264     \n",
            "                                                                 \n",
            " max_pooling2d_30 (MaxPooli  (None, 31, 31, 64)        0         \n",
            " ng2D)                                                           \n",
            "                                                                 \n",
            " ConvOfBlock2 (Conv2D)       (None, 25, 25, 128)       401536    \n",
            "                                                                 \n",
            " max_pooling2d_31 (MaxPooli  (None, 13, 13, 128)       0         \n",
            " ng2D)                                                           \n",
            "                                                                 \n",
            " ConvOfBlock3 (Conv2D)       (None, 10, 10, 128)       262272    \n",
            "                                                                 \n",
            " max_pooling2d_32 (MaxPooli  (None, 5, 5, 128)         0         \n",
            " ng2D)                                                           \n",
            "                                                                 \n",
            " ConvOfBlock4 (Conv2D)       (None, 2, 2, 256)         524544    \n",
            "                                                                 \n",
            " flatten_5 (Flatten)         (None, 1024)              0         \n",
            "                                                                 \n",
            " dense_8 (Dense)             (None, 4096)              4198400   \n",
            "                                                                 \n",
            "=================================================================\n",
            "Total params: 5406016 (20.62 MB)\n",
            "Trainable params: 5406016 (20.62 MB)\n",
            "Non-trainable params: 0 (0.00 Byte)\n",
            "_________________________________________________________________\n"
          ]
        }
      ],
      "source": [
        "# basic_layer.summary()"
      ]
    },
    {
      "cell_type": "code",
      "execution_count": null,
      "metadata": {
        "id": "YcUPPn5-YuPa"
      },
      "outputs": [],
      "source": [
        "# class siamese(Layer):\n",
        "\n",
        "#    def __init__(self, **kwargs):\n",
        "#        super().__init__()\n",
        "\n",
        "#    def call(self, inp_model_processed, validation_model_processed):\n",
        "#       return tf.math.abs(inp_model_processed-validation_model_processed)\n"
      ]
    },
    {
      "cell_type": "code",
      "execution_count": null,
      "metadata": {
        "id": "UmNdCSNOYuPb"
      },
      "outputs": [],
      "source": [
        "# def model():\n",
        "#     inp_image=Input(shape=(size,size,3),name=\"Input/AnchorImg\")\n",
        "#     valid_image=Input(shape=(size,size,3),name=\"ValidationImg\")\n",
        "\n",
        "# # ###############################################\n",
        "# #     conv1_anc=Conv2D(64,(10,10),activation='relu',name=\"ConvOfBlock1\")(inp_image),\n",
        "# #     max_pool1_anc=MaxPooling2D(64,(2,2),padding='same',name=\"MP1\")(conv1_anc),\n",
        "# #\n",
        "# #     conv2_anc=Conv2D(128, (7, 7), activation='relu', name=\"ConvOfBlock2\")(max_pool1_anc),\n",
        "# #     max_pool2_anc=MaxPooling2D(64,(2,2),padding='same',name=\"MP2\")(conv2_anc),\n",
        "# #\n",
        "# #     conv3_anc=Conv2D(128, (4, 4), activation='relu', name=\"ConvOfBlock3\")(max_pool2_anc),\n",
        "# #     max_pool3_anc=MaxPooling2D(64, (2, 2), padding='same',name=\"MP3\")(conv3_anc),\n",
        "# #\n",
        "# #     conv4_anc=Conv2D(256, (4, 4), activation='relu', name=\"ConvOfBlock4\")(max_pool3_anc),\n",
        "# #\n",
        "# #     fl_anc=Flatten()(conv4_anc),\n",
        "# #     inp_data=Dense(4096, activation='softmax')(fl_anc)\n",
        "# #\n",
        "# # ###################################\n",
        "# #\n",
        "# #\n",
        "# # ###############################################\n",
        "# #     conv1_val=Conv2D(64,(10,10),activation='relu',name=\"ConvOfBlock1'\")(valid_image),\n",
        "# #     max_pool1_val=MaxPooling2D(64,(2,2),padding='same',name=\"MP1'\")(conv1_val),\n",
        "# #\n",
        "# #     conv2_val=Conv2D(128, (7, 7), activation='relu', name=\"ConvOfBlock2'\")(max_pool1_val),\n",
        "# #     max_pool2_val=MaxPooling2D(64,(2,2),padding='same',name=\"MP2'\")(conv2_val),\n",
        "# #\n",
        "# #     conv3_val=Conv2D(128, (4, 4), activation='relu', name=\"ConvOfBlock3'\")(max_pool2_val),\n",
        "# #     max_pool3_val=MaxPooling2D(64, (2, 2), padding='same',name=\"MP3'\")(conv3_val),\n",
        "# #\n",
        "# #     conv4_val=Conv2D(256, (4, 4), activation='relu', name=\"ConvOfBlock4'\")(max_pool3_val),\n",
        "# #\n",
        "# #     fl_val=Flatten()(conv4_val),\n",
        "# #     valid_data=Dense(4096, activation='softmax')(fl_val)\n",
        "# #\n",
        "# # ###################################\n",
        "\n",
        "\n",
        "#     L1layer=siamese()\n",
        "\n",
        "#     distance = L1layer(basic_layer(inp_image),basic_layer(valid_image))\n",
        "\n",
        "#     last_layer=Dense(1,activation='sigmoid')(distance)\n",
        "\n",
        "#     return Model(inputs=[inp_image,valid_image],outputs=[last_layer],name=\"SiamesesNeuralNetwork\")"
      ]
    },
    {
      "cell_type": "code",
      "execution_count": null,
      "metadata": {
        "id": "oHgw9xXQYuPb"
      },
      "outputs": [],
      "source": [
        "# snn=model()"
      ]
    },
    {
      "cell_type": "code",
      "execution_count": null,
      "metadata": {
        "colab": {
          "base_uri": "https://localhost:8080/"
        },
        "id": "I3FqJUMtYuPc",
        "outputId": "16dcea5f-0203-421f-d43d-bbaabf4c6f51"
      },
      "outputs": [
        {
          "name": "stdout",
          "output_type": "stream",
          "text": [
            "Model: \"SiamesesNeuralNetwork\"\n",
            "__________________________________________________________________________________________________\n",
            " Layer (type)                Output Shape                 Param #   Connected to                  \n",
            "==================================================================================================\n",
            " Input/AnchorImg (InputLaye  [(None, 70, 70, 3)]          0         []                            \n",
            " r)                                                                                               \n",
            "                                                                                                  \n",
            " ValidationImg (InputLayer)  [(None, 70, 70, 3)]          0         []                            \n",
            "                                                                                                  \n",
            " embedding (Functional)      (None, 4096)                 5406016   ['Input/AnchorImg[0][0]',     \n",
            "                                                                     'ValidationImg[0][0]']       \n",
            "                                                                                                  \n",
            " siamese_3 (siamese)         (None, 4096)                 0         ['embedding[0][0]',           \n",
            "                                                                     'embedding[1][0]']           \n",
            "                                                                                                  \n",
            " dense_9 (Dense)             (None, 1)                    4097      ['siamese_3[0][0]']           \n",
            "                                                                                                  \n",
            "==================================================================================================\n",
            "Total params: 5410113 (20.64 MB)\n",
            "Trainable params: 5410113 (20.64 MB)\n",
            "Non-trainable params: 0 (0.00 Byte)\n",
            "__________________________________________________________________________________________________\n"
          ]
        }
      ],
      "source": [
        "# snn.summary()\n"
      ]
    },
    {
      "cell_type": "code",
      "execution_count": null,
      "metadata": {
        "id": "kniiSxiyYuPc"
      },
      "outputs": [],
      "source": [
        "# snn.compile(\n",
        "#     loss=tf.keras.losses.BinaryCrossentropy(),\n",
        "#     optimizer=tf.keras.optimizers.Adam(learning_rate=0.001),\n",
        "#     metrics=['accuracy']\n",
        "# )\n"
      ]
    },
    {
      "cell_type": "code",
      "execution_count": null,
      "metadata": {
        "id": "nARip66MYuPc"
      },
      "outputs": [],
      "source": [
        "# end_ind=int((0.7)*len(dataset_list_anc))"
      ]
    },
    {
      "cell_type": "code",
      "execution_count": null,
      "metadata": {
        "id": "RFrjbUt-YuPc"
      },
      "outputs": [],
      "source": [
        "# snn.fit(\n",
        "#     [np.array(dataset_list_anc[0:end_ind]), np.array(\n",
        "#         dataset_list_valid[0:end_ind])], np.array(y_list[0:end_ind]),batch_size=256,\n",
        "#     epochs=5)\n"
      ]
    },
    {
      "cell_type": "code",
      "execution_count": null,
      "metadata": {
        "id": "QeUbnSMj3Xxo"
      },
      "outputs": [],
      "source": [
        "# end_ind_cross_valid=int((0.85)*len(dataset_list_anc))"
      ]
    },
    {
      "cell_type": "code",
      "execution_count": null,
      "metadata": {
        "colab": {
          "base_uri": "https://localhost:8080/"
        },
        "id": "TyshtCunYuPd",
        "outputId": "853f5fe0-9e2c-4952-f6d0-062fab9eb546"
      },
      "outputs": [
        {
          "name": "stdout",
          "output_type": "stream",
          "text": [
            "95/95 [==============================] - 15s 155ms/step - loss: 0.6945 - accuracy: 0.5033\n",
            "Cross Validation accuracy: 0.5033068656921387\n"
          ]
        }
      ],
      "source": [
        "# cross_valid_loss, cross_valid_acc = snn.evaluate([np.array(dataset_list_anc[end_ind:end_ind_cross_valid]), np.array(\n",
        "#     dataset_list_valid[end_ind:end_ind_cross_valid])],  np.array(y_list[end_ind:end_ind_cross_valid]), verbose=1)\n",
        "\n",
        "# print('Cross Validation accuracy:', cross_valid_acc)\n",
        "# #for tuning of hyperparameters"
      ]
    },
    {
      "cell_type": "code",
      "execution_count": null,
      "metadata": {
        "colab": {
          "base_uri": "https://localhost:8080/"
        },
        "id": "0J8se1Ih3imw",
        "outputId": "bfed0d27-ee48-4612-b2a6-2b0fc7f9499e"
      },
      "outputs": [
        {
          "name": "stdout",
          "output_type": "stream",
          "text": [
            "95/95 [==============================] - 15s 155ms/step - loss: 0.6964 - accuracy: 0.5003\n",
            "Test accuracy: 0.5003306865692139\n"
          ]
        }
      ],
      "source": [
        "# #for reporting final accurcay\n",
        "# test_loss, test_acc = snn.evaluate([np.array(dataset_list_anc[end_ind_cross_valid:]), np.array(\n",
        "#     dataset_list_valid[end_ind_cross_valid:])],  np.array(y_list[end_ind_cross_valid:]), verbose=1)\n",
        "\n",
        "# print('Test accuracy:', test_acc)"
      ]
    },
    {
      "cell_type": "code",
      "execution_count": null,
      "metadata": {
        "colab": {
          "base_uri": "https://localhost:8080/",
          "height": 322
        },
        "id": "RZsbH2Ae6I5p",
        "outputId": "3c27ea28-0d16-4416-81de-ee68cda161fa"
      },
      "outputs": [
        {
          "ename": "TypeError",
          "evalue": "ignored",
          "output_type": "error",
          "traceback": [
            "\u001b[0;31m---------------------------------------------------------------------------\u001b[0m",
            "\u001b[0;31mTypeError\u001b[0m                                 Traceback (most recent call last)",
            "\u001b[0;32m<ipython-input-215-4ff59ac5b6dc>\u001b[0m in \u001b[0;36m<cell line: 1>\u001b[0;34m()\u001b[0m\n\u001b[0;32m----> 1\u001b[0;31m \u001b[0msnn\u001b[0m\u001b[0;34m.\u001b[0m\u001b[0msave\u001b[0m\u001b[0;34m(\u001b[0m\u001b[0;34m)\u001b[0m\u001b[0;34m\u001b[0m\u001b[0;34m\u001b[0m\u001b[0m\n\u001b[0m",
            "\u001b[0;32m/usr/local/lib/python3.10/dist-packages/keras/src/utils/traceback_utils.py\u001b[0m in \u001b[0;36merror_handler\u001b[0;34m(*args, **kwargs)\u001b[0m\n\u001b[1;32m     68\u001b[0m             \u001b[0;31m# To get the full stack trace, call:\u001b[0m\u001b[0;34m\u001b[0m\u001b[0;34m\u001b[0m\u001b[0m\n\u001b[1;32m     69\u001b[0m             \u001b[0;31m# `tf.debugging.disable_traceback_filtering()`\u001b[0m\u001b[0;34m\u001b[0m\u001b[0;34m\u001b[0m\u001b[0m\n\u001b[0;32m---> 70\u001b[0;31m             \u001b[0;32mraise\u001b[0m \u001b[0me\u001b[0m\u001b[0;34m.\u001b[0m\u001b[0mwith_traceback\u001b[0m\u001b[0;34m(\u001b[0m\u001b[0mfiltered_tb\u001b[0m\u001b[0;34m)\u001b[0m \u001b[0;32mfrom\u001b[0m \u001b[0;32mNone\u001b[0m\u001b[0;34m\u001b[0m\u001b[0;34m\u001b[0m\u001b[0m\n\u001b[0m\u001b[1;32m     71\u001b[0m         \u001b[0;32mfinally\u001b[0m\u001b[0;34m:\u001b[0m\u001b[0;34m\u001b[0m\u001b[0;34m\u001b[0m\u001b[0m\n\u001b[1;32m     72\u001b[0m             \u001b[0;32mdel\u001b[0m \u001b[0mfiltered_tb\u001b[0m\u001b[0;34m\u001b[0m\u001b[0;34m\u001b[0m\u001b[0m\n",
            "\u001b[0;32m/usr/local/lib/python3.10/dist-packages/keras/src/utils/traceback_utils.py\u001b[0m in \u001b[0;36merror_handler\u001b[0;34m(*args, **kwargs)\u001b[0m\n\u001b[1;32m     63\u001b[0m         \u001b[0mfiltered_tb\u001b[0m \u001b[0;34m=\u001b[0m \u001b[0;32mNone\u001b[0m\u001b[0;34m\u001b[0m\u001b[0;34m\u001b[0m\u001b[0m\n\u001b[1;32m     64\u001b[0m         \u001b[0;32mtry\u001b[0m\u001b[0;34m:\u001b[0m\u001b[0;34m\u001b[0m\u001b[0;34m\u001b[0m\u001b[0m\n\u001b[0;32m---> 65\u001b[0;31m             \u001b[0;32mreturn\u001b[0m \u001b[0mfn\u001b[0m\u001b[0;34m(\u001b[0m\u001b[0;34m*\u001b[0m\u001b[0margs\u001b[0m\u001b[0;34m,\u001b[0m \u001b[0;34m**\u001b[0m\u001b[0mkwargs\u001b[0m\u001b[0;34m)\u001b[0m\u001b[0;34m\u001b[0m\u001b[0;34m\u001b[0m\u001b[0m\n\u001b[0m\u001b[1;32m     66\u001b[0m         \u001b[0;32mexcept\u001b[0m \u001b[0mException\u001b[0m \u001b[0;32mas\u001b[0m \u001b[0me\u001b[0m\u001b[0;34m:\u001b[0m\u001b[0;34m\u001b[0m\u001b[0;34m\u001b[0m\u001b[0m\n\u001b[1;32m     67\u001b[0m             \u001b[0mfiltered_tb\u001b[0m \u001b[0;34m=\u001b[0m \u001b[0m_process_traceback_frames\u001b[0m\u001b[0;34m(\u001b[0m\u001b[0me\u001b[0m\u001b[0;34m.\u001b[0m\u001b[0m__traceback__\u001b[0m\u001b[0;34m)\u001b[0m\u001b[0;34m\u001b[0m\u001b[0;34m\u001b[0m\u001b[0m\n",
            "\u001b[0;31mTypeError\u001b[0m: Model.save() missing 1 required positional argument: 'filepath'"
          ]
        }
      ],
      "source": [
        "# snn.save()"
      ]
    },
    {
      "cell_type": "code",
      "execution_count": 4,
      "metadata": {},
      "outputs": [
        {
          "name": "stdout",
          "output_type": "stream",
          "text": [
            "Defaulting to user installation because normal site-packages is not writeable\n",
            "Requirement already satisfied: keras in /home/sahil/.local/lib/python3.10/site-packages (3.3.3)\n",
            "Collecting keras\n",
            "  Downloading keras-3.6.0-py3-none-any.whl (1.2 MB)\n",
            "\u001b[2K     \u001b[90m━━━━━━━━━━━━━━━━━━━━━━━━━━━━━━━━━━━━━━━━\u001b[0m \u001b[32m1.2/1.2 MB\u001b[0m \u001b[31m7.1 MB/s\u001b[0m eta \u001b[36m0:00:00\u001b[0ma \u001b[36m0:00:01\u001b[0m\n",
            "\u001b[?25hRequirement already satisfied: packaging in /home/sahil/.local/lib/python3.10/site-packages (from keras) (24.1)\n",
            "Requirement already satisfied: h5py in /home/sahil/.local/lib/python3.10/site-packages (from keras) (3.11.0)\n",
            "Requirement already satisfied: rich in /home/sahil/.local/lib/python3.10/site-packages (from keras) (13.7.0)\n",
            "Requirement already satisfied: numpy in /home/sahil/.local/lib/python3.10/site-packages (from keras) (1.26.4)\n",
            "Requirement already satisfied: optree in /home/sahil/.local/lib/python3.10/site-packages (from keras) (0.11.0)\n",
            "Requirement already satisfied: ml-dtypes in /home/sahil/.local/lib/python3.10/site-packages (from keras) (0.3.2)\n",
            "Requirement already satisfied: namex in /home/sahil/.local/lib/python3.10/site-packages (from keras) (0.0.8)\n",
            "Requirement already satisfied: absl-py in /home/sahil/.local/lib/python3.10/site-packages (from keras) (2.1.0)\n",
            "Requirement already satisfied: typing-extensions>=4.0.0 in /home/sahil/.local/lib/python3.10/site-packages (from optree->keras) (4.9.0)\n",
            "Requirement already satisfied: pygments<3.0.0,>=2.13.0 in /home/sahil/.local/lib/python3.10/site-packages (from rich->keras) (2.17.2)\n",
            "Requirement already satisfied: markdown-it-py>=2.2.0 in /home/sahil/.local/lib/python3.10/site-packages (from rich->keras) (3.0.0)\n",
            "Requirement already satisfied: mdurl~=0.1 in /home/sahil/.local/lib/python3.10/site-packages (from markdown-it-py>=2.2.0->rich->keras) (0.1.2)\n",
            "Installing collected packages: keras\n",
            "  Attempting uninstall: keras\n",
            "    Found existing installation: keras 3.3.3\n",
            "    Uninstalling keras-3.3.3:\n",
            "      Successfully uninstalled keras-3.3.3\n",
            "Successfully installed keras-3.6.0\n",
            "Note: you may need to restart the kernel to use updated packages.\n"
          ]
        }
      ],
      "source": [
        "pip install keras --upgrade"
      ]
    },
    {
      "cell_type": "code",
      "execution_count": 6,
      "metadata": {
        "id": "zWM-aXQjN06R"
      },
      "outputs": [
        {
          "ename": "ValueError",
          "evalue": "bad marshal data (unknown type code)",
          "output_type": "error",
          "traceback": [
            "\u001b[0;31m---------------------------------------------------------------------------\u001b[0m",
            "\u001b[0;31mValueError\u001b[0m                                Traceback (most recent call last)",
            "\u001b[0;32m/tmp/ipykernel_57012/3025431104.py\u001b[0m in \u001b[0;36m<module>\u001b[0;34m\u001b[0m\n\u001b[1;32m      2\u001b[0m \u001b[0;32mfrom\u001b[0m \u001b[0mkeras\u001b[0m\u001b[0;34m.\u001b[0m\u001b[0mmodels\u001b[0m \u001b[0;32mimport\u001b[0m \u001b[0mload_model\u001b[0m\u001b[0;34m\u001b[0m\u001b[0;34m\u001b[0m\u001b[0m\n\u001b[1;32m      3\u001b[0m \u001b[0;31m# load the model\u001b[0m\u001b[0;34m\u001b[0m\u001b[0;34m\u001b[0m\u001b[0m\n\u001b[0;32m----> 4\u001b[0;31m \u001b[0mmodel\u001b[0m \u001b[0;34m=\u001b[0m \u001b[0mload_model\u001b[0m\u001b[0;34m(\u001b[0m\u001b[0;34m'facenet_keras.h5'\u001b[0m\u001b[0;34m)\u001b[0m\u001b[0;34m\u001b[0m\u001b[0;34m\u001b[0m\u001b[0m\n\u001b[0m\u001b[1;32m      5\u001b[0m \u001b[0;31m# summarize input and output shape\u001b[0m\u001b[0;34m\u001b[0m\u001b[0;34m\u001b[0m\u001b[0m\n\u001b[1;32m      6\u001b[0m \u001b[0mprint\u001b[0m\u001b[0;34m(\u001b[0m\u001b[0mmodel\u001b[0m\u001b[0;34m.\u001b[0m\u001b[0minputs\u001b[0m\u001b[0;34m)\u001b[0m\u001b[0;34m\u001b[0m\u001b[0;34m\u001b[0m\u001b[0m\n",
            "\u001b[0;32m~/.local/lib/python3.10/site-packages/keras/src/saving/saving_api.py\u001b[0m in \u001b[0;36mload_model\u001b[0;34m(filepath, custom_objects, compile, safe_mode)\u001b[0m\n\u001b[1;32m    181\u001b[0m         \u001b[0mfile_utils\u001b[0m\u001b[0;34m.\u001b[0m\u001b[0mcopy\u001b[0m\u001b[0;34m(\u001b[0m\u001b[0mfilepath\u001b[0m\u001b[0;34m,\u001b[0m \u001b[0mlocal_path\u001b[0m\u001b[0;34m)\u001b[0m\u001b[0;34m\u001b[0m\u001b[0;34m\u001b[0m\u001b[0m\n\u001b[1;32m    182\u001b[0m \u001b[0;34m\u001b[0m\u001b[0m\n\u001b[0;32m--> 183\u001b[0;31m         \u001b[0;31m# Switch filepath to local zipfile for loading model\u001b[0m\u001b[0;34m\u001b[0m\u001b[0;34m\u001b[0m\u001b[0m\n\u001b[0m\u001b[1;32m    184\u001b[0m         \u001b[0;32mif\u001b[0m \u001b[0mzipfile\u001b[0m\u001b[0;34m.\u001b[0m\u001b[0mis_zipfile\u001b[0m\u001b[0;34m(\u001b[0m\u001b[0mlocal_path\u001b[0m\u001b[0;34m)\u001b[0m\u001b[0;34m:\u001b[0m\u001b[0;34m\u001b[0m\u001b[0;34m\u001b[0m\u001b[0m\n\u001b[1;32m    185\u001b[0m             \u001b[0mfilepath\u001b[0m \u001b[0;34m=\u001b[0m \u001b[0mlocal_path\u001b[0m\u001b[0;34m\u001b[0m\u001b[0;34m\u001b[0m\u001b[0m\n",
            "\u001b[0;32m~/.local/lib/python3.10/site-packages/keras/src/legacy/saving/legacy_h5_format.py\u001b[0m in \u001b[0;36mload_model_from_hdf5\u001b[0;34m(filepath, custom_objects, compile)\u001b[0m\n\u001b[1;32m    131\u001b[0m \u001b[0;34m\u001b[0m\u001b[0m\n\u001b[1;32m    132\u001b[0m         \u001b[0;32mwith\u001b[0m \u001b[0msaving_options\u001b[0m\u001b[0;34m.\u001b[0m\u001b[0mkeras_option_scope\u001b[0m\u001b[0;34m(\u001b[0m\u001b[0muse_legacy_config\u001b[0m\u001b[0;34m=\u001b[0m\u001b[0;32mTrue\u001b[0m\u001b[0;34m)\u001b[0m\u001b[0;34m:\u001b[0m\u001b[0;34m\u001b[0m\u001b[0;34m\u001b[0m\u001b[0m\n\u001b[0;32m--> 133\u001b[0;31m             model = saving_utils.model_from_config(\n\u001b[0m\u001b[1;32m    134\u001b[0m                 \u001b[0mmodel_config\u001b[0m\u001b[0;34m,\u001b[0m \u001b[0mcustom_objects\u001b[0m\u001b[0;34m=\u001b[0m\u001b[0mcustom_objects\u001b[0m\u001b[0;34m\u001b[0m\u001b[0;34m\u001b[0m\u001b[0m\n\u001b[1;32m    135\u001b[0m             )\n",
            "\u001b[0;32m~/.local/lib/python3.10/site-packages/keras/src/legacy/saving/saving_utils.py\u001b[0m in \u001b[0;36mmodel_from_config\u001b[0;34m(config, custom_objects)\u001b[0m\n\u001b[1;32m     83\u001b[0m     \u001b[0mconfig\u001b[0m \u001b[0;34m=\u001b[0m \u001b[0m_find_replace_nested_dict\u001b[0m\u001b[0;34m(\u001b[0m\u001b[0mconfig\u001b[0m\u001b[0;34m,\u001b[0m \u001b[0;34m\"keras.\"\u001b[0m\u001b[0;34m,\u001b[0m \u001b[0;34m\"keras.\"\u001b[0m\u001b[0;34m)\u001b[0m\u001b[0;34m\u001b[0m\u001b[0;34m\u001b[0m\u001b[0m\n\u001b[1;32m     84\u001b[0m \u001b[0;34m\u001b[0m\u001b[0m\n\u001b[0;32m---> 85\u001b[0;31m     return serialization.deserialize_keras_object(\n\u001b[0m\u001b[1;32m     86\u001b[0m         \u001b[0mconfig\u001b[0m\u001b[0;34m,\u001b[0m\u001b[0;34m\u001b[0m\u001b[0;34m\u001b[0m\u001b[0m\n\u001b[1;32m     87\u001b[0m         \u001b[0mmodule_objects\u001b[0m\u001b[0;34m=\u001b[0m\u001b[0mMODULE_OBJECTS\u001b[0m\u001b[0;34m.\u001b[0m\u001b[0mALL_OBJECTS\u001b[0m\u001b[0;34m,\u001b[0m\u001b[0;34m\u001b[0m\u001b[0;34m\u001b[0m\u001b[0m\n",
            "\u001b[0;32m~/.local/lib/python3.10/site-packages/keras/src/legacy/saving/serialization.py\u001b[0m in \u001b[0;36mdeserialize_keras_object\u001b[0;34m(identifier, module_objects, custom_objects, printable_module_name)\u001b[0m\n\u001b[1;32m    493\u001b[0m \u001b[0;34m\u001b[0m\u001b[0m\n\u001b[1;32m    494\u001b[0m             \u001b[0;32mif\u001b[0m \u001b[0;34m\"custom_objects\"\u001b[0m \u001b[0;32min\u001b[0m \u001b[0marg_spec\u001b[0m\u001b[0;34m.\u001b[0m\u001b[0margs\u001b[0m\u001b[0;34m:\u001b[0m\u001b[0;34m\u001b[0m\u001b[0;34m\u001b[0m\u001b[0m\n\u001b[0;32m--> 495\u001b[0;31m                 deserialized_obj = cls.from_config(\n\u001b[0m\u001b[1;32m    496\u001b[0m                     \u001b[0mcls_config\u001b[0m\u001b[0;34m,\u001b[0m\u001b[0;34m\u001b[0m\u001b[0;34m\u001b[0m\u001b[0m\n\u001b[1;32m    497\u001b[0m                     custom_objects={\n",
            "\u001b[0;32m~/.local/lib/python3.10/site-packages/keras/src/models/model.py\u001b[0m in \u001b[0;36mfrom_config\u001b[0;34m(cls, config, custom_objects)\u001b[0m\n\u001b[1;32m    515\u001b[0m         ]\n\u001b[1;32m    516\u001b[0m         revivable_as_functional = (\n\u001b[0;32m--> 517\u001b[0;31m             \u001b[0mcls\u001b[0m \u001b[0;32min\u001b[0m \u001b[0;34m{\u001b[0m\u001b[0mFunctional\u001b[0m\u001b[0;34m,\u001b[0m \u001b[0mModel\u001b[0m\u001b[0;34m}\u001b[0m\u001b[0;34m\u001b[0m\u001b[0;34m\u001b[0m\u001b[0m\n\u001b[0m\u001b[1;32m    518\u001b[0m             \u001b[0;32mor\u001b[0m \u001b[0margspec\u001b[0m\u001b[0;34m.\u001b[0m\u001b[0margs\u001b[0m\u001b[0;34m[\u001b[0m\u001b[0;36m1\u001b[0m\u001b[0;34m:\u001b[0m\u001b[0;34m]\u001b[0m \u001b[0;34m==\u001b[0m \u001b[0mfunctional_init_args\u001b[0m\u001b[0;34m\u001b[0m\u001b[0;34m\u001b[0m\u001b[0m\n\u001b[1;32m    519\u001b[0m             \u001b[0;32mor\u001b[0m \u001b[0;34m(\u001b[0m\u001b[0margspec\u001b[0m\u001b[0;34m.\u001b[0m\u001b[0mvarargs\u001b[0m \u001b[0;34m==\u001b[0m \u001b[0;34m\"args\"\u001b[0m \u001b[0;32mand\u001b[0m \u001b[0margspec\u001b[0m\u001b[0;34m.\u001b[0m\u001b[0mvarkw\u001b[0m \u001b[0;34m==\u001b[0m \u001b[0;34m\"kwargs\"\u001b[0m\u001b[0;34m)\u001b[0m\u001b[0;34m\u001b[0m\u001b[0;34m\u001b[0m\u001b[0m\n",
            "\u001b[0;32m~/.local/lib/python3.10/site-packages/keras/src/models/functional.py\u001b[0m in \u001b[0;36mfunctional_from_config\u001b[0;34m(cls, config, custom_objects)\u001b[0m\n\u001b[1;32m    515\u001b[0m                 \u001b[0;32mwhile\u001b[0m \u001b[0mnode_index\u001b[0m \u001b[0;34m<\u001b[0m \u001b[0mlen\u001b[0m\u001b[0;34m(\u001b[0m\u001b[0mnode_data_list\u001b[0m\u001b[0;34m)\u001b[0m\u001b[0;34m:\u001b[0m\u001b[0;34m\u001b[0m\u001b[0;34m\u001b[0m\u001b[0m\n\u001b[1;32m    516\u001b[0m                     \u001b[0mnode_data\u001b[0m \u001b[0;34m=\u001b[0m \u001b[0mnode_data_list\u001b[0m\u001b[0;34m[\u001b[0m\u001b[0mnode_index\u001b[0m\u001b[0;34m]\u001b[0m\u001b[0;34m\u001b[0m\u001b[0;34m\u001b[0m\u001b[0m\n\u001b[0;32m--> 517\u001b[0;31m                     \u001b[0;32mtry\u001b[0m\u001b[0;34m:\u001b[0m\u001b[0;34m\u001b[0m\u001b[0;34m\u001b[0m\u001b[0m\n\u001b[0m\u001b[1;32m    518\u001b[0m                         \u001b[0mprocess_node\u001b[0m\u001b[0;34m(\u001b[0m\u001b[0mlayer\u001b[0m\u001b[0;34m,\u001b[0m \u001b[0mnode_data\u001b[0m\u001b[0;34m)\u001b[0m\u001b[0;34m\u001b[0m\u001b[0;34m\u001b[0m\u001b[0m\n\u001b[1;32m    519\u001b[0m \u001b[0;34m\u001b[0m\u001b[0m\n",
            "\u001b[0;32m~/.local/lib/python3.10/site-packages/keras/src/models/functional.py\u001b[0m in \u001b[0;36mprocess_layer\u001b[0;34m(layer_data)\u001b[0m\n\u001b[1;32m    495\u001b[0m             \u001b[0madd_unprocessed_node\u001b[0m\u001b[0;34m(\u001b[0m\u001b[0mlayer\u001b[0m\u001b[0;34m,\u001b[0m \u001b[0mnode_data\u001b[0m\u001b[0;34m)\u001b[0m\u001b[0;34m\u001b[0m\u001b[0;34m\u001b[0m\u001b[0m\n\u001b[1;32m    496\u001b[0m \u001b[0;34m\u001b[0m\u001b[0m\n\u001b[0;32m--> 497\u001b[0;31m     \u001b[0;31m# First, we create all layers and enqueue nodes to be processed\u001b[0m\u001b[0;34m\u001b[0m\u001b[0;34m\u001b[0m\u001b[0m\n\u001b[0m\u001b[1;32m    498\u001b[0m     \u001b[0;32mfor\u001b[0m \u001b[0mlayer_data\u001b[0m \u001b[0;32min\u001b[0m \u001b[0mconfig\u001b[0m\u001b[0;34m[\u001b[0m\u001b[0;34m\"layers\"\u001b[0m\u001b[0;34m]\u001b[0m\u001b[0;34m:\u001b[0m\u001b[0;34m\u001b[0m\u001b[0;34m\u001b[0m\u001b[0m\n\u001b[1;32m    499\u001b[0m         \u001b[0mprocess_layer\u001b[0m\u001b[0;34m(\u001b[0m\u001b[0mlayer_data\u001b[0m\u001b[0;34m)\u001b[0m\u001b[0;34m\u001b[0m\u001b[0;34m\u001b[0m\u001b[0m\n",
            "\u001b[0;32m~/.local/lib/python3.10/site-packages/keras/src/legacy/saving/saving_utils.py\u001b[0m in \u001b[0;36mmodel_from_config\u001b[0;34m(config, custom_objects)\u001b[0m\n\u001b[1;32m     83\u001b[0m     \u001b[0mconfig\u001b[0m \u001b[0;34m=\u001b[0m \u001b[0m_find_replace_nested_dict\u001b[0m\u001b[0;34m(\u001b[0m\u001b[0mconfig\u001b[0m\u001b[0;34m,\u001b[0m \u001b[0;34m\"keras.\"\u001b[0m\u001b[0;34m,\u001b[0m \u001b[0;34m\"keras.\"\u001b[0m\u001b[0;34m)\u001b[0m\u001b[0;34m\u001b[0m\u001b[0;34m\u001b[0m\u001b[0m\n\u001b[1;32m     84\u001b[0m \u001b[0;34m\u001b[0m\u001b[0m\n\u001b[0;32m---> 85\u001b[0;31m     return serialization.deserialize_keras_object(\n\u001b[0m\u001b[1;32m     86\u001b[0m         \u001b[0mconfig\u001b[0m\u001b[0;34m,\u001b[0m\u001b[0;34m\u001b[0m\u001b[0;34m\u001b[0m\u001b[0m\n\u001b[1;32m     87\u001b[0m         \u001b[0mmodule_objects\u001b[0m\u001b[0;34m=\u001b[0m\u001b[0mMODULE_OBJECTS\u001b[0m\u001b[0;34m.\u001b[0m\u001b[0mALL_OBJECTS\u001b[0m\u001b[0;34m,\u001b[0m\u001b[0;34m\u001b[0m\u001b[0;34m\u001b[0m\u001b[0m\n",
            "\u001b[0;32m~/.local/lib/python3.10/site-packages/keras/src/legacy/saving/serialization.py\u001b[0m in \u001b[0;36mdeserialize_keras_object\u001b[0;34m(identifier, module_objects, custom_objects, printable_module_name)\u001b[0m\n\u001b[1;32m    493\u001b[0m \u001b[0;34m\u001b[0m\u001b[0m\n\u001b[1;32m    494\u001b[0m             \u001b[0;32mif\u001b[0m \u001b[0;34m\"custom_objects\"\u001b[0m \u001b[0;32min\u001b[0m \u001b[0marg_spec\u001b[0m\u001b[0;34m.\u001b[0m\u001b[0margs\u001b[0m\u001b[0;34m:\u001b[0m\u001b[0;34m\u001b[0m\u001b[0;34m\u001b[0m\u001b[0m\n\u001b[0;32m--> 495\u001b[0;31m                 deserialized_obj = cls.from_config(\n\u001b[0m\u001b[1;32m    496\u001b[0m                     \u001b[0mcls_config\u001b[0m\u001b[0;34m,\u001b[0m\u001b[0;34m\u001b[0m\u001b[0;34m\u001b[0m\u001b[0m\n\u001b[1;32m    497\u001b[0m                     custom_objects={\n",
            "\u001b[0;32m~/.local/lib/python3.10/site-packages/keras/src/layers/core/lambda_layer.py\u001b[0m in \u001b[0;36mfrom_config\u001b[0;34m(cls, config, custom_objects, safe_mode)\u001b[0m\n\u001b[1;32m    190\u001b[0m             \u001b[0mcls\u001b[0m\u001b[0;34m.\u001b[0m\u001b[0m_raise_for_lambda_deserialization\u001b[0m\u001b[0;34m(\u001b[0m\u001b[0;34m\"function\"\u001b[0m\u001b[0;34m,\u001b[0m \u001b[0msafe_mode\u001b[0m\u001b[0;34m)\u001b[0m\u001b[0;34m\u001b[0m\u001b[0;34m\u001b[0m\u001b[0m\n\u001b[1;32m    191\u001b[0m             \u001b[0minner_config\u001b[0m \u001b[0;34m=\u001b[0m \u001b[0mfn_config\u001b[0m\u001b[0;34m[\u001b[0m\u001b[0;34m\"config\"\u001b[0m\u001b[0;34m]\u001b[0m\u001b[0;34m\u001b[0m\u001b[0;34m\u001b[0m\u001b[0m\n\u001b[0;32m--> 192\u001b[0;31m             fn = python_utils.func_load(\n\u001b[0m\u001b[1;32m    193\u001b[0m                 \u001b[0minner_config\u001b[0m\u001b[0;34m[\u001b[0m\u001b[0;34m\"code\"\u001b[0m\u001b[0;34m]\u001b[0m\u001b[0;34m,\u001b[0m\u001b[0;34m\u001b[0m\u001b[0;34m\u001b[0m\u001b[0m\n\u001b[1;32m    194\u001b[0m                 \u001b[0mdefaults\u001b[0m\u001b[0;34m=\u001b[0m\u001b[0minner_config\u001b[0m\u001b[0;34m[\u001b[0m\u001b[0;34m\"defaults\"\u001b[0m\u001b[0;34m]\u001b[0m\u001b[0;34m,\u001b[0m\u001b[0;34m\u001b[0m\u001b[0;34m\u001b[0m\u001b[0m\n",
            "\u001b[0;32m~/.local/lib/python3.10/site-packages/keras/src/utils/python_utils.py\u001b[0m in \u001b[0;36mfunc_load\u001b[0;34m(code, defaults, closure, globs)\u001b[0m\n\u001b[1;32m     81\u001b[0m     \u001b[0;32mexcept\u001b[0m \u001b[0;34m(\u001b[0m\u001b[0mUnicodeEncodeError\u001b[0m\u001b[0;34m,\u001b[0m \u001b[0mbinascii\u001b[0m\u001b[0;34m.\u001b[0m\u001b[0mError\u001b[0m\u001b[0;34m)\u001b[0m\u001b[0;34m:\u001b[0m\u001b[0;34m\u001b[0m\u001b[0;34m\u001b[0m\u001b[0m\n\u001b[1;32m     82\u001b[0m         \u001b[0mraw_code\u001b[0m \u001b[0;34m=\u001b[0m \u001b[0mcode\u001b[0m\u001b[0;34m.\u001b[0m\u001b[0mencode\u001b[0m\u001b[0;34m(\u001b[0m\u001b[0;34m\"raw_unicode_escape\"\u001b[0m\u001b[0;34m)\u001b[0m\u001b[0;34m\u001b[0m\u001b[0;34m\u001b[0m\u001b[0m\n\u001b[0;32m---> 83\u001b[0;31m     \u001b[0mcode\u001b[0m \u001b[0;34m=\u001b[0m \u001b[0mmarshal\u001b[0m\u001b[0;34m.\u001b[0m\u001b[0mloads\u001b[0m\u001b[0;34m(\u001b[0m\u001b[0mraw_code\u001b[0m\u001b[0;34m)\u001b[0m\u001b[0;34m\u001b[0m\u001b[0;34m\u001b[0m\u001b[0m\n\u001b[0m\u001b[1;32m     84\u001b[0m     \u001b[0;32mif\u001b[0m \u001b[0mglobs\u001b[0m \u001b[0;32mis\u001b[0m \u001b[0;32mNone\u001b[0m\u001b[0;34m:\u001b[0m\u001b[0;34m\u001b[0m\u001b[0;34m\u001b[0m\u001b[0m\n\u001b[1;32m     85\u001b[0m         \u001b[0mglobs\u001b[0m \u001b[0;34m=\u001b[0m \u001b[0mglobals\u001b[0m\u001b[0;34m(\u001b[0m\u001b[0;34m)\u001b[0m\u001b[0;34m\u001b[0m\u001b[0;34m\u001b[0m\u001b[0m\n",
            "\u001b[0;31mValueError\u001b[0m: bad marshal data (unknown type code)"
          ]
        }
      ],
      "source": [
        "# example of loading the keras facenet model\n",
        "from keras.models import load_model\n",
        "# load the model\n",
        "model = load_model('facenet_keras.h5')\n",
        "# summarize input and output shape\n",
        "print(model.inputs)\n",
        "print(model.outputs)"
      ]
    }
  ],
  "metadata": {
    "colab": {
      "provenance": []
    },
    "kernelspec": {
      "display_name": "Python 3",
      "language": "python",
      "name": "python3"
    },
    "language_info": {
      "codemirror_mode": {
        "name": "ipython",
        "version": 3
      },
      "file_extension": ".py",
      "mimetype": "text/x-python",
      "name": "python",
      "nbconvert_exporter": "python",
      "pygments_lexer": "ipython3",
      "version": "3.10.12"
    }
  },
  "nbformat": 4,
  "nbformat_minor": 0
}
